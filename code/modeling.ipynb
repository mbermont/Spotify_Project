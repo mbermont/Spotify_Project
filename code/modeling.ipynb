{
 "cells": [
  {
   "cell_type": "markdown",
   "source": [
    "## Modeling\n",
    "\n",
    "\n",
    "This is a notebook to create a model that will answer the problem of assiging a genre to a song based on Spotify\n",
    "metadata.  For this problem I have chosen to use a multiclass classification neural network with the backend being\n",
    "writen in pytorch. This model will be able to beat our baseline score by a magnitude of 10."
   ],
   "metadata": {
    "collapsed": false,
    "pycharm": {
     "name": "#%% md\n"
    }
   }
  },
  {
   "cell_type": "markdown",
   "source": [
    "#### Imports"
   ],
   "metadata": {
    "collapsed": false,
    "pycharm": {
     "name": "#%% md\n"
    }
   }
  },
  {
   "cell_type": "code",
   "execution_count": 207,
   "outputs": [],
   "source": [
    "import pandas as pd\n",
    "import numpy as np\n",
    "import seaborn as sns\n",
    "import matplotlib.pyplot as plt\n",
    "\n",
    "from sklearn.model_selection import train_test_split\n",
    "from sklearn.preprocessing import StandardScaler\n",
    "\n",
    "import torch\n",
    "import torch.nn as nn\n",
    "import torch.nn.functional as F\n"
   ],
   "metadata": {
    "collapsed": false,
    "pycharm": {
     "name": "#%%\n"
    }
   }
  },
  {
   "cell_type": "markdown",
   "source": [
    "#### Read in clean data"
   ],
   "metadata": {
    "collapsed": false,
    "pycharm": {
     "name": "#%% md\n"
    }
   }
  },
  {
   "cell_type": "code",
   "execution_count": 208,
   "outputs": [
    {
     "data": {
      "text/plain": "   danceability  energy  loudness  speechiness  acousticness  \\\n0         0.831   0.814    -7.364       0.4200        0.0598   \n1         0.719   0.493    -7.230       0.0794        0.4010   \n2         0.850   0.893    -4.783       0.0623        0.0138   \n3         0.476   0.781    -4.710       0.1030        0.0237   \n4         0.798   0.624    -7.668       0.2930        0.2170   \n\n   instrumentalness  liveness  valence    tempo                      id  ...  \\\n0          0.013400    0.0556   0.3890  156.985  2Vc6NJ9PW9gD9q343XFRKx  ...   \n1          0.000000    0.1180   0.1240  115.080  7pgJBLVz5VmnL7uGHmRj6p  ...   \n2          0.000004    0.3720   0.0391  218.050  0vSWgAlfpye0WCGeNmuNhy  ...   \n3          0.000000    0.1140   0.1750  186.948  0VSXnJqQkwuH2ei1nOQ1nu  ...   \n4          0.000000    0.1660   0.5910  147.988  4jCeguq9rMTlbMmPHuO7S3  ...   \n\n   key_6  key_7 key_8  key_9  key_10  key_11  time_signature_3  \\\n0      0      0     0      0       0       0                 0   \n1      0      0     1      0       0       0                 0   \n2      0      0     0      0       0       0                 0   \n3      0      0     0      0       0       0                 1   \n4      0      0     0      0       0       0                 0   \n\n   time_signature_4  time_signature_5  mode_1  \n0                 1                 0       1  \n1                 1                 0       1  \n2                 1                 0       1  \n3                 0                 0       1  \n4                 1                 0       1  \n\n[5 rows x 30 columns]",
      "text/html": "<div>\n<style scoped>\n    .dataframe tbody tr th:only-of-type {\n        vertical-align: middle;\n    }\n\n    .dataframe tbody tr th {\n        vertical-align: top;\n    }\n\n    .dataframe thead th {\n        text-align: right;\n    }\n</style>\n<table border=\"1\" class=\"dataframe\">\n  <thead>\n    <tr style=\"text-align: right;\">\n      <th></th>\n      <th>danceability</th>\n      <th>energy</th>\n      <th>loudness</th>\n      <th>speechiness</th>\n      <th>acousticness</th>\n      <th>instrumentalness</th>\n      <th>liveness</th>\n      <th>valence</th>\n      <th>tempo</th>\n      <th>id</th>\n      <th>...</th>\n      <th>key_6</th>\n      <th>key_7</th>\n      <th>key_8</th>\n      <th>key_9</th>\n      <th>key_10</th>\n      <th>key_11</th>\n      <th>time_signature_3</th>\n      <th>time_signature_4</th>\n      <th>time_signature_5</th>\n      <th>mode_1</th>\n    </tr>\n  </thead>\n  <tbody>\n    <tr>\n      <th>0</th>\n      <td>0.831</td>\n      <td>0.814</td>\n      <td>-7.364</td>\n      <td>0.4200</td>\n      <td>0.0598</td>\n      <td>0.013400</td>\n      <td>0.0556</td>\n      <td>0.3890</td>\n      <td>156.985</td>\n      <td>2Vc6NJ9PW9gD9q343XFRKx</td>\n      <td>...</td>\n      <td>0</td>\n      <td>0</td>\n      <td>0</td>\n      <td>0</td>\n      <td>0</td>\n      <td>0</td>\n      <td>0</td>\n      <td>1</td>\n      <td>0</td>\n      <td>1</td>\n    </tr>\n    <tr>\n      <th>1</th>\n      <td>0.719</td>\n      <td>0.493</td>\n      <td>-7.230</td>\n      <td>0.0794</td>\n      <td>0.4010</td>\n      <td>0.000000</td>\n      <td>0.1180</td>\n      <td>0.1240</td>\n      <td>115.080</td>\n      <td>7pgJBLVz5VmnL7uGHmRj6p</td>\n      <td>...</td>\n      <td>0</td>\n      <td>0</td>\n      <td>1</td>\n      <td>0</td>\n      <td>0</td>\n      <td>0</td>\n      <td>0</td>\n      <td>1</td>\n      <td>0</td>\n      <td>1</td>\n    </tr>\n    <tr>\n      <th>2</th>\n      <td>0.850</td>\n      <td>0.893</td>\n      <td>-4.783</td>\n      <td>0.0623</td>\n      <td>0.0138</td>\n      <td>0.000004</td>\n      <td>0.3720</td>\n      <td>0.0391</td>\n      <td>218.050</td>\n      <td>0vSWgAlfpye0WCGeNmuNhy</td>\n      <td>...</td>\n      <td>0</td>\n      <td>0</td>\n      <td>0</td>\n      <td>0</td>\n      <td>0</td>\n      <td>0</td>\n      <td>0</td>\n      <td>1</td>\n      <td>0</td>\n      <td>1</td>\n    </tr>\n    <tr>\n      <th>3</th>\n      <td>0.476</td>\n      <td>0.781</td>\n      <td>-4.710</td>\n      <td>0.1030</td>\n      <td>0.0237</td>\n      <td>0.000000</td>\n      <td>0.1140</td>\n      <td>0.1750</td>\n      <td>186.948</td>\n      <td>0VSXnJqQkwuH2ei1nOQ1nu</td>\n      <td>...</td>\n      <td>0</td>\n      <td>0</td>\n      <td>0</td>\n      <td>0</td>\n      <td>0</td>\n      <td>0</td>\n      <td>1</td>\n      <td>0</td>\n      <td>0</td>\n      <td>1</td>\n    </tr>\n    <tr>\n      <th>4</th>\n      <td>0.798</td>\n      <td>0.624</td>\n      <td>-7.668</td>\n      <td>0.2930</td>\n      <td>0.2170</td>\n      <td>0.000000</td>\n      <td>0.1660</td>\n      <td>0.5910</td>\n      <td>147.988</td>\n      <td>4jCeguq9rMTlbMmPHuO7S3</td>\n      <td>...</td>\n      <td>0</td>\n      <td>0</td>\n      <td>0</td>\n      <td>0</td>\n      <td>0</td>\n      <td>0</td>\n      <td>0</td>\n      <td>1</td>\n      <td>0</td>\n      <td>1</td>\n    </tr>\n  </tbody>\n</table>\n<p>5 rows × 30 columns</p>\n</div>"
     },
     "execution_count": 208,
     "metadata": {},
     "output_type": "execute_result"
    }
   ],
   "source": [
    "data = pd.read_csv('../data/clean_data.csv')\n",
    "\n",
    "data.head()"
   ],
   "metadata": {
    "collapsed": false,
    "pycharm": {
     "name": "#%%\n"
    }
   }
  },
  {
   "cell_type": "code",
   "execution_count": 209,
   "outputs": [
    {
     "name": "stdout",
     "output_type": "stream",
     "text": [
      "<class 'pandas.core.frame.DataFrame'>\n",
      "RangeIndex: 42305 entries, 0 to 42304\n",
      "Data columns (total 30 columns):\n",
      " #   Column                Non-Null Count  Dtype  \n",
      "---  ------                --------------  -----  \n",
      " 0   danceability          42305 non-null  float64\n",
      " 1   energy                42305 non-null  float64\n",
      " 2   loudness              42305 non-null  float64\n",
      " 3   speechiness           42305 non-null  float64\n",
      " 4   acousticness          42305 non-null  float64\n",
      " 5   instrumentalness      42305 non-null  float64\n",
      " 6   liveness              42305 non-null  float64\n",
      " 7   valence               42305 non-null  float64\n",
      " 8   tempo                 42305 non-null  float64\n",
      " 9   id                    42305 non-null  object \n",
      " 10  duration_ms           42305 non-null  int64  \n",
      " 11  genre                 42305 non-null  int64  \n",
      " 12  song_name             42299 non-null  object \n",
      " 13  song_name_char_count  42305 non-null  int64  \n",
      " 14  song_name_word_count  42305 non-null  int64  \n",
      " 15  key_1                 42305 non-null  int64  \n",
      " 16  key_2                 42305 non-null  int64  \n",
      " 17  key_3                 42305 non-null  int64  \n",
      " 18  key_4                 42305 non-null  int64  \n",
      " 19  key_5                 42305 non-null  int64  \n",
      " 20  key_6                 42305 non-null  int64  \n",
      " 21  key_7                 42305 non-null  int64  \n",
      " 22  key_8                 42305 non-null  int64  \n",
      " 23  key_9                 42305 non-null  int64  \n",
      " 24  key_10                42305 non-null  int64  \n",
      " 25  key_11                42305 non-null  int64  \n",
      " 26  time_signature_3      42305 non-null  int64  \n",
      " 27  time_signature_4      42305 non-null  int64  \n",
      " 28  time_signature_5      42305 non-null  int64  \n",
      " 29  mode_1                42305 non-null  int64  \n",
      "dtypes: float64(9), int64(19), object(2)\n",
      "memory usage: 9.7+ MB\n"
     ]
    }
   ],
   "source": [
    "data.info()\n",
    "\n",
    "classes = data['genre'].unique()\n",
    "num_classes = len(classes)\n"
   ],
   "metadata": {
    "collapsed": false,
    "pycharm": {
     "name": "#%%\n"
    }
   }
  },
  {
   "cell_type": "markdown",
   "source": [
    "#### Create Dataset for our features (`X`) and target values (`y`)"
   ],
   "metadata": {
    "collapsed": false,
    "pycharm": {
     "name": "#%% md\n"
    }
   }
  },
  {
   "cell_type": "code",
   "execution_count": 210,
   "outputs": [],
   "source": [
    "X = data.drop(columns=['id','genre', 'song_name'])\n",
    "y = np.array(data['genre'])"
   ],
   "metadata": {
    "collapsed": false,
    "pycharm": {
     "name": "#%%\n"
    }
   }
  },
  {
   "cell_type": "markdown",
   "source": [
    "#### Split data into training and testing datasets"
   ],
   "metadata": {
    "collapsed": false,
    "pycharm": {
     "name": "#%% md\n"
    }
   }
  },
  {
   "cell_type": "code",
   "execution_count": 211,
   "outputs": [],
   "source": [
    "X_train, X_test, y_train, y_test = train_test_split(X,y, random_state=42, stratify= y)\n"
   ],
   "metadata": {
    "collapsed": false,
    "pycharm": {
     "name": "#%%\n"
    }
   }
  },
  {
   "cell_type": "markdown",
   "source": [
    "#### Apply Standard Scaling"
   ],
   "metadata": {
    "collapsed": false,
    "pycharm": {
     "name": "#%% md\n"
    }
   }
  },
  {
   "cell_type": "code",
   "execution_count": 212,
   "outputs": [],
   "source": [
    "sc = StandardScaler()\n",
    "\n",
    "X_train_sc = sc.fit_transform(X_train)\n",
    "X_test_sc = sc.transform(X_test)\n"
   ],
   "metadata": {
    "collapsed": false,
    "pycharm": {
     "name": "#%%\n"
    }
   }
  },
  {
   "cell_type": "markdown",
   "source": [
    "Standard scaling is needed to measure all values in comparison to one another. By using standard scaling all value\n",
    "weights can be equally compared.\n",
    "\n",
    "\n",
    "#### Create Tensor"
   ],
   "metadata": {
    "collapsed": false,
    "pycharm": {
     "name": "#%% md\n"
    }
   }
  },
  {
   "cell_type": "code",
   "execution_count": 213,
   "outputs": [],
   "source": [
    "X_train_t = torch.tensor(X_train_sc).float()\n",
    "y_train_t = torch.tensor(y_train).long()\n",
    "\n",
    "X_test_t = torch.tensor(X_test_sc).float()\n",
    "y_test_t = torch.tensor(y_test).long()\n"
   ],
   "metadata": {
    "collapsed": false,
    "pycharm": {
     "name": "#%%\n"
    }
   }
  },
  {
   "cell_type": "markdown",
   "source": [
    "Using pytorch the data sets need to be in tensor 1D arrays. These data sets will be in the correct format for the model.\n",
    "\n",
    "> This line of code is to save the number of features, so I can use them in my first layer as the number of nodes."
   ],
   "metadata": {
    "collapsed": false,
    "pycharm": {
     "name": "#%% md\n"
    }
   }
  },
  {
   "cell_type": "code",
   "execution_count": 214,
   "outputs": [
    {
     "data": {
      "text/plain": "27"
     },
     "execution_count": 214,
     "metadata": {},
     "output_type": "execute_result"
    }
   ],
   "source": [
    "nodes = X_train_t.shape[1]\n",
    "nodes"
   ],
   "metadata": {
    "collapsed": false,
    "pycharm": {
     "name": "#%%\n"
    }
   }
  },
  {
   "cell_type": "code",
   "execution_count": 226,
   "outputs": [],
   "source": [
    "class MultiClassModel(nn.Module):\n",
    "    def __init__(self):\n",
    "        super().__init__()\n",
    "        self.h1 = nn.Linear(nodes, 32)\n",
    "        self.h2 = nn.Linear(32, 64)\n",
    "        self.h3 = nn.Linear(64, 128)\n",
    "        self.h4 = nn.Linear(128, 128)\n",
    "        self.h5 = nn.Linear(128, 64)\n",
    "        self.h6 = nn.Linear(64, 64)\n",
    "        self.out = nn.Linear(64, 15)\n",
    "\n",
    "    def forward(self, X):\n",
    "        X = F.relu(self.h1(X))\n",
    "        X = F.relu(self.h2(X))\n",
    "        X = F.relu(self.h3(X))\n",
    "        X = F.relu(self.h4(X))\n",
    "        X = F.relu(self.h5(X))\n",
    "        X = F.relu(self.h6(X))\n",
    "        return self.out(X)\n",
    "\n",
    "\n",
    "model = MultiClassModel()\n",
    "\n",
    "loss_fn = nn.CrossEntropyLoss()"
   ],
   "metadata": {
    "collapsed": false,
    "pycharm": {
     "name": "#%%\n"
    }
   }
  },
  {
   "cell_type": "markdown",
   "source": [
    "Create `torch.optim.Adam()` optimizer."
   ],
   "metadata": {
    "collapsed": false
   }
  },
  {
   "cell_type": "code",
   "execution_count": 227,
   "outputs": [],
   "source": [
    "optimizer = torch.optim.Adam(model.parameters(), lr=.01)"
   ],
   "metadata": {
    "collapsed": false,
    "pycharm": {
     "name": "#%%\n"
    }
   }
  },
  {
   "cell_type": "code",
   "execution_count": null,
   "outputs": [],
   "source": [
    "train_loss = []\n",
    "testing_loss = []\n",
    "train_accuracy = []\n",
    "test_accuracy = []\n",
    "batch_size = 256\n",
    "training_size = X.shape[0]\n",
    "count = 0\n",
    "epochs = 1000\n",
    "for epoch in range(epochs):\n",
    "    with torch.no_grad():\n",
    "        test_pred = model(X_test_t)\n",
    "        test_loss = loss_fn(test_pred,y_test_t)\n",
    "        testing_loss.append(test_loss.item())\n",
    "        train_pred = model(X_train_t)\n",
    "        loss = loss_fn(train_pred, y_train_t)\n",
    "        train_loss.append(loss.item())\n",
    "        train_accuracy.append((train_pred.argmax(axis=1) == y_train_t).float().mean())\n",
    "        test_accuracy.append((test_pred.argmax(axis=1) == y_test_t).float().mean())\n",
    "    for batch_idx in range(0, training_size, batch_size):\n",
    "        # zero out the optimizer's gradients\n",
    "        optimizer.zero_grad()\n",
    "\n",
    "        # Create X_batch and y_batch\n",
    "        X_batch = X_train_t[batch_idx:batch_idx + batch_size]\n",
    "        y_batch = y_train_t[batch_idx:batch_idx + batch_size]\n",
    "\n",
    "        # get predictions and loss\n",
    "        pred = model(X_batch)\n",
    "\n",
    "        loss = loss_fn(pred, y_batch)\n",
    "        # back propagate\n",
    "        loss.backward()\n",
    "\n",
    "        # step\n",
    "        optimizer.step()\n",
    "    count += 1\n",
    "    if count % (epochs//10) == 0:\n",
    "        print(f'Model is {(count/epochs) * 100}% done.')"
   ],
   "metadata": {
    "collapsed": false,
    "pycharm": {
     "name": "#%%\n",
     "is_executing": true
    }
   }
  },
  {
   "cell_type": "markdown",
   "source": [
    "How did the model do?"
   ],
   "metadata": {
    "collapsed": false
   }
  },
  {
   "cell_type": "code",
   "execution_count": 218,
   "outputs": [
    {
     "data": {
      "text/plain": "<Figure size 432x288 with 1 Axes>",
      "image/png": "[encoded data removed]"
     },
     "metadata": {
      "needs_background": "light"
     },
     "output_type": "display_data"
    }
   ],
   "source": [
    "plt.plot(train_loss, color='red')\n",
    "plt.plot(testing_loss, color= 'blue')\n",
    "plt.title('Regularized Model Cross Entropy Loss Per Epoch')\n",
    "plt.ylabel('Cross Entropy Loss')\n",
    "plt.xlabel('Epochs')\n",
    "\n",
    "plt.savefig('../imgs/reg_loss_plt.png', dpi= 400, bbox_inches= 'tight')"
   ],
   "metadata": {
    "collapsed": false,
    "pycharm": {
     "name": "#%%\n"
    }
   }
  },
  {
   "cell_type": "code",
   "execution_count": 219,
   "outputs": [
    {
     "data": {
      "text/plain": "<Figure size 432x288 with 1 Axes>",
      "image/png": "[encoded data removed]"
     },
     "metadata": {
      "needs_background": "light"
     },
     "output_type": "display_data"
    }
   ],
   "source": [
    "plt.plot(train_accuracy, color= 'purple')\n",
    "plt.plot(test_accuracy, color= 'cyan')\n",
    "plt.title('Accuracy Score of the Model by Number of Epochs')\n",
    "plt.ylabel('Accuracy')\n",
    "plt.savefig('../imgs/accuracy_model_before_reg.png', dpi= 400, bbox_inches= 'tight')"
   ],
   "metadata": {
    "collapsed": false,
    "pycharm": {
     "name": "#%%\n"
    }
   }
  },
  {
   "cell_type": "markdown",
   "source": [
    "\n",
    "### Implement Dropout Regularization\n",
    "\n",
    "In this section I will build a new Neural Network with dropout regularization."
   ],
   "metadata": {
    "collapsed": false,
    "pycharm": {
     "name": "#%% md\n"
    }
   }
  },
  {
   "cell_type": "code",
   "execution_count": 220,
   "outputs": [],
   "source": [
    "model_drop = torch.nn.Sequential()\n",
    "\n",
    "model_drop.add_module(\"dropout1\", torch.nn.Dropout(p=0.2))\n",
    "#first module with the number of nodes as the number of features, 27\n",
    "#also this module will output 500 different nodes.\n",
    "model_drop.add_module(\"dense1\", torch.nn.Linear(nodes,1024))\n",
    "model_drop.add_module(\"relu1\", torch.nn.ReLU())\n",
    "model_drop.add_module(\"dropout2\", torch.nn.Dropout(p=0.3))\n",
    "\n",
    "model_drop.add_module(\"dense2\", torch.nn.Linear(1024,512))\n",
    "model_drop.add_module(\"relu2\", torch.nn.ReLU())\n",
    "model_drop.add_module(\"dropout3\", torch.nn.Dropout(p=0.3))\n",
    "\n",
    "\n",
    "model_drop.add_module(\"dense3\", torch.nn.Linear(512,256))\n",
    "model_drop.add_module(\"relu3\", torch.nn.ReLU())\n",
    "model_drop.add_module(\"dropout4\", torch.nn.Dropout(p=0.4))\n",
    "\n",
    "model_drop.add_module(\"dense4\", torch.nn.Linear(256,128))\n",
    "model_drop.add_module(\"relu4\", torch.nn.ReLU())\n",
    "model_drop.add_module(\"dropout5\", torch.nn.Dropout(p=0.3))\n",
    "\n",
    "# model_drop.add_module(\"dense5\", torch.nn.Linear(128,64))\n",
    "# model_drop.add_module(\"relu5\", torch.nn.ReLU())\n",
    "# model_drop.add_module(\"dropout6\", torch.nn.Dropout(p=0.3))\n",
    "#\n",
    "# model_drop.add_module(\"dense6\", torch.nn.Linear(64,32))\n",
    "# model_drop.add_module(\"relu6\", torch.nn.ReLU())\n",
    "# model_drop.add_module(\"dropout7\", torch.nn.Dropout(p=0.5))\n",
    "\n",
    "model_drop.add_module(\"dense7\", torch.nn.Linear(128,num_classes))\n",
    "\n",
    "\n",
    "\n",
    "\n",
    "drop_loss = torch.nn.CrossEntropyLoss()"
   ],
   "metadata": {
    "collapsed": false,
    "pycharm": {
     "name": "#%%\n"
    }
   }
  },
  {
   "cell_type": "code",
   "execution_count": 221,
   "outputs": [],
   "source": [
    "optimizer_drop = torch.optim.Adam(model_drop.parameters(), lr=.001)"
   ],
   "metadata": {
    "collapsed": false,
    "pycharm": {
     "name": "#%%\n"
    }
   }
  },
  {
   "cell_type": "code",
   "execution_count": 222,
   "outputs": [
    {
     "name": "stdout",
     "output_type": "stream",
     "text": [
      "Model is 4.8% done.\n",
      "Model is 9.6% done.\n",
      "Model is 14.399999999999999% done.\n",
      "Model is 19.2% done.\n",
      "Model is 24.0% done.\n",
      "Model is 28.799999999999997% done.\n",
      "Model is 33.6% done.\n",
      "Model is 38.4% done.\n",
      "Model is 43.2% done.\n",
      "Model is 48.0% done.\n",
      "Model is 52.800000000000004% done.\n",
      "Model is 57.599999999999994% done.\n",
      "Model is 62.4% done.\n",
      "Model is 67.2% done.\n",
      "Model is 72.0% done.\n",
      "Model is 76.8% done.\n",
      "Model is 81.6% done.\n",
      "Model is 86.4% done.\n",
      "Model is 91.2% done.\n",
      "Model is 96.0% done.\n"
     ]
    }
   ],
   "source": [
    "train_loss_d = []\n",
    "testing_loss_d = []\n",
    "train_accuracy_d = []\n",
    "test_accuracy_d = []\n",
    "batch_size = 4096\n",
    "training_size = X.shape[0]\n",
    "count = 0\n",
    "epochs = 250\n",
    "for epoch in range(epochs):\n",
    "    with torch.no_grad():\n",
    "        test_pred = model_drop(X_test_t)\n",
    "        test_loss = drop_loss(test_pred,y_test_t)\n",
    "        testing_loss_d.append(test_loss.item())\n",
    "        train_pred = model_drop(X_train_t)\n",
    "        loss = drop_loss(train_pred, y_train_t)\n",
    "        train_loss_d.append(loss.item())\n",
    "        train_accuracy_d.append((train_pred.argmax(axis=1) == y_train_t).float().mean())\n",
    "        test_accuracy_d.append((test_pred.argmax(axis=1) == y_test_t).float().mean())\n",
    "    for batch_idx in range(0, training_size, batch_size):\n",
    "        # zero out the optimizer's gradients\n",
    "        optimizer_drop.zero_grad()\n",
    "\n",
    "        # Create X_batch and y_batch\n",
    "        X_batch = X_train_t[batch_idx:batch_idx + batch_size]\n",
    "        y_batch = y_train_t[batch_idx:batch_idx + batch_size]\n",
    "\n",
    "        # get predictions and loss\n",
    "        pred = model_drop(X_batch)\n",
    "\n",
    "        loss = drop_loss(pred, y_batch)\n",
    "        # back propagate\n",
    "        loss.backward()\n",
    "\n",
    "        # step\n",
    "        optimizer_drop.step()\n",
    "    count += 1\n",
    "    if count % (epochs//20) == 0:\n",
    "        print(f'Model is {(count/epochs) * 100}% done.')"
   ],
   "metadata": {
    "collapsed": false,
    "pycharm": {
     "name": "#%%\n"
    }
   }
  },
  {
   "cell_type": "markdown",
   "source": [
    "How did the model do?"
   ],
   "metadata": {
    "collapsed": false
   }
  },
  {
   "cell_type": "code",
   "execution_count": 223,
   "outputs": [
    {
     "data": {
      "text/plain": "<Figure size 432x288 with 1 Axes>",
      "image/png": "[encoded data removed]"
     },
     "metadata": {
      "needs_background": "light"
     },
     "output_type": "display_data"
    }
   ],
   "source": [
    "plt.plot(train_loss_d, color='red')\n",
    "plt.plot(testing_loss_d, color= 'blue')\n",
    "plt.title('Regularized Model Cross Entropy Loss Per Epoch')\n",
    "plt.ylabel('Cross Entropy Loss')\n",
    "plt.xlabel('Epochs')\n",
    "\n",
    "plt.savefig('../imgs/reg_loss_plt.png', dpi= 400, bbox_inches= 'tight')"
   ],
   "metadata": {
    "collapsed": false,
    "pycharm": {
     "name": "#%%\n"
    }
   }
  },
  {
   "cell_type": "code",
   "execution_count": 224,
   "outputs": [
    {
     "data": {
      "text/plain": "<Figure size 432x288 with 1 Axes>",
      "image/png": "[encoded data removed]"
     },
     "metadata": {
      "needs_background": "light"
     },
     "output_type": "display_data"
    }
   ],
   "source": [
    "plt.plot(train_accuracy_d, color= 'purple')\n",
    "plt.plot(test_accuracy_d, color= 'cyan')\n",
    "plt.title('Accuracy Score of the Regularized Model by Number of Epochs')\n",
    "plt.ylabel('Accuracy')\n",
    "plt.xlabel('Epochs')\n",
    "plt.savefig('../imgs/accuracy_model_after_reg.png', dpi= 400, bbox_inches= 'tight')\n",
    "\n",
    "\n",
    "\n",
    "\n"
   ],
   "metadata": {
    "collapsed": false,
    "pycharm": {
     "name": "#%%\n"
    }
   }
  }
 ],
 "metadata": {
  "kernelspec": {
   "display_name": "Python 3",
   "language": "python",
   "name": "python3"
  },
  "language_info": {
   "codemirror_mode": {
    "name": "ipython",
    "version": 2
   },
   "file_extension": ".py",
   "mimetype": "text/x-python",
   "name": "python",
   "nbconvert_exporter": "python",
   "pygments_lexer": "ipython2",
   "version": "2.7.6"
  }
 },
 "nbformat": 4,
 "nbformat_minor": 0
}