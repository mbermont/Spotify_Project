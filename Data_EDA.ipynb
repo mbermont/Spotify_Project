{
 "cells": [
  {
   "cell_type": "markdown",
   "metadata": {
    "collapsed": true,
    "pycharm": {
     "name": "#%% md\n"
    }
   },
   "source": [
    "## Spotify Project - Data & EDA\n",
    "This notebook is to clean the data and complete EDA."
   ]
  },
  {
   "cell_type": "code",
   "execution_count": 40,
   "outputs": [],
   "source": [
    "#imports\n",
    "import pandas as pd\n",
    "import numpy as np\n",
    "import seaborn as sns\n",
    "import matplotlib.pyplot as plt"
   ],
   "metadata": {
    "collapsed": false,
    "pycharm": {
     "name": "#%%\n"
    }
   }
  },
  {
   "cell_type": "markdown",
   "source": [
    "1. Read in the data set from Kaggle. (https://www.kaggle.com/mrmorj/dataset-of-songs-in-spotify)"
   ],
   "metadata": {
    "collapsed": false,
    "pycharm": {
     "name": "#%% md\n"
    }
   }
  },
  {
   "cell_type": "code",
   "execution_count": 41,
   "outputs": [
    {
     "name": "stderr",
     "output_type": "stream",
     "text": [
      "C:\\Users\\Bermonster\\anaconda3\\envs\\Capstone\\lib\\site-packages\\IPython\\core\\interactiveshell.py:3155: DtypeWarning: Columns (19) have mixed types.Specify dtype option on import or set low_memory=False.\n",
      "  has_raised = await self.run_ast_nodes(code_ast.body, cell_name,\n"
     ]
    },
    {
     "data": {
      "text/plain": "   danceability  energy  key  loudness  mode  speechiness  acousticness  \\\n0         0.831   0.814    2    -7.364     1       0.4200        0.0598   \n1         0.719   0.493    8    -7.230     1       0.0794        0.4010   \n2         0.850   0.893    5    -4.783     1       0.0623        0.0138   \n3         0.476   0.781    0    -4.710     1       0.1030        0.0237   \n4         0.798   0.624    2    -7.668     1       0.2930        0.2170   \n\n   instrumentalness  liveness  valence  ...                      id  \\\n0          0.013400    0.0556   0.3890  ...  2Vc6NJ9PW9gD9q343XFRKx   \n1          0.000000    0.1180   0.1240  ...  7pgJBLVz5VmnL7uGHmRj6p   \n2          0.000004    0.3720   0.0391  ...  0vSWgAlfpye0WCGeNmuNhy   \n3          0.000000    0.1140   0.1750  ...  0VSXnJqQkwuH2ei1nOQ1nu   \n4          0.000000    0.1660   0.5910  ...  4jCeguq9rMTlbMmPHuO7S3   \n\n                                    uri  \\\n0  spotify:track:2Vc6NJ9PW9gD9q343XFRKx   \n1  spotify:track:7pgJBLVz5VmnL7uGHmRj6p   \n2  spotify:track:0vSWgAlfpye0WCGeNmuNhy   \n3  spotify:track:0VSXnJqQkwuH2ei1nOQ1nu   \n4  spotify:track:4jCeguq9rMTlbMmPHuO7S3   \n\n                                          track_href  \\\n0  https://api.spotify.com/v1/tracks/2Vc6NJ9PW9gD...   \n1  https://api.spotify.com/v1/tracks/7pgJBLVz5Vmn...   \n2  https://api.spotify.com/v1/tracks/0vSWgAlfpye0...   \n3  https://api.spotify.com/v1/tracks/0VSXnJqQkwuH...   \n4  https://api.spotify.com/v1/tracks/4jCeguq9rMTl...   \n\n                                        analysis_url duration_ms  \\\n0  https://api.spotify.com/v1/audio-analysis/2Vc6...      124539   \n1  https://api.spotify.com/v1/audio-analysis/7pgJ...      224427   \n2  https://api.spotify.com/v1/audio-analysis/0vSW...       98821   \n3  https://api.spotify.com/v1/audio-analysis/0VSX...      123661   \n4  https://api.spotify.com/v1/audio-analysis/4jCe...      123298   \n\n  time_signature      genre                                      song_name  \\\n0              4  Dark Trap                            Mercury: Retrograde   \n1              4  Dark Trap                                      Pathology   \n2              4  Dark Trap                                       Symbiote   \n3              3  Dark Trap  ProductOfDrugs (Prod. The Virus and Antidote)   \n4              4  Dark Trap                                          Venom   \n\n  Unnamed: 0 title  \n0        NaN   NaN  \n1        NaN   NaN  \n2        NaN   NaN  \n3        NaN   NaN  \n4        NaN   NaN  \n\n[5 rows x 22 columns]",
      "text/html": "<div>\n<style scoped>\n    .dataframe tbody tr th:only-of-type {\n        vertical-align: middle;\n    }\n\n    .dataframe tbody tr th {\n        vertical-align: top;\n    }\n\n    .dataframe thead th {\n        text-align: right;\n    }\n</style>\n<table border=\"1\" class=\"dataframe\">\n  <thead>\n    <tr style=\"text-align: right;\">\n      <th></th>\n      <th>danceability</th>\n      <th>energy</th>\n      <th>key</th>\n      <th>loudness</th>\n      <th>mode</th>\n      <th>speechiness</th>\n      <th>acousticness</th>\n      <th>instrumentalness</th>\n      <th>liveness</th>\n      <th>valence</th>\n      <th>...</th>\n      <th>id</th>\n      <th>uri</th>\n      <th>track_href</th>\n      <th>analysis_url</th>\n      <th>duration_ms</th>\n      <th>time_signature</th>\n      <th>genre</th>\n      <th>song_name</th>\n      <th>Unnamed: 0</th>\n      <th>title</th>\n    </tr>\n  </thead>\n  <tbody>\n    <tr>\n      <th>0</th>\n      <td>0.831</td>\n      <td>0.814</td>\n      <td>2</td>\n      <td>-7.364</td>\n      <td>1</td>\n      <td>0.4200</td>\n      <td>0.0598</td>\n      <td>0.013400</td>\n      <td>0.0556</td>\n      <td>0.3890</td>\n      <td>...</td>\n      <td>2Vc6NJ9PW9gD9q343XFRKx</td>\n      <td>spotify:track:2Vc6NJ9PW9gD9q343XFRKx</td>\n      <td>https://api.spotify.com/v1/tracks/2Vc6NJ9PW9gD...</td>\n      <td>https://api.spotify.com/v1/audio-analysis/2Vc6...</td>\n      <td>124539</td>\n      <td>4</td>\n      <td>Dark Trap</td>\n      <td>Mercury: Retrograde</td>\n      <td>NaN</td>\n      <td>NaN</td>\n    </tr>\n    <tr>\n      <th>1</th>\n      <td>0.719</td>\n      <td>0.493</td>\n      <td>8</td>\n      <td>-7.230</td>\n      <td>1</td>\n      <td>0.0794</td>\n      <td>0.4010</td>\n      <td>0.000000</td>\n      <td>0.1180</td>\n      <td>0.1240</td>\n      <td>...</td>\n      <td>7pgJBLVz5VmnL7uGHmRj6p</td>\n      <td>spotify:track:7pgJBLVz5VmnL7uGHmRj6p</td>\n      <td>https://api.spotify.com/v1/tracks/7pgJBLVz5Vmn...</td>\n      <td>https://api.spotify.com/v1/audio-analysis/7pgJ...</td>\n      <td>224427</td>\n      <td>4</td>\n      <td>Dark Trap</td>\n      <td>Pathology</td>\n      <td>NaN</td>\n      <td>NaN</td>\n    </tr>\n    <tr>\n      <th>2</th>\n      <td>0.850</td>\n      <td>0.893</td>\n      <td>5</td>\n      <td>-4.783</td>\n      <td>1</td>\n      <td>0.0623</td>\n      <td>0.0138</td>\n      <td>0.000004</td>\n      <td>0.3720</td>\n      <td>0.0391</td>\n      <td>...</td>\n      <td>0vSWgAlfpye0WCGeNmuNhy</td>\n      <td>spotify:track:0vSWgAlfpye0WCGeNmuNhy</td>\n      <td>https://api.spotify.com/v1/tracks/0vSWgAlfpye0...</td>\n      <td>https://api.spotify.com/v1/audio-analysis/0vSW...</td>\n      <td>98821</td>\n      <td>4</td>\n      <td>Dark Trap</td>\n      <td>Symbiote</td>\n      <td>NaN</td>\n      <td>NaN</td>\n    </tr>\n    <tr>\n      <th>3</th>\n      <td>0.476</td>\n      <td>0.781</td>\n      <td>0</td>\n      <td>-4.710</td>\n      <td>1</td>\n      <td>0.1030</td>\n      <td>0.0237</td>\n      <td>0.000000</td>\n      <td>0.1140</td>\n      <td>0.1750</td>\n      <td>...</td>\n      <td>0VSXnJqQkwuH2ei1nOQ1nu</td>\n      <td>spotify:track:0VSXnJqQkwuH2ei1nOQ1nu</td>\n      <td>https://api.spotify.com/v1/tracks/0VSXnJqQkwuH...</td>\n      <td>https://api.spotify.com/v1/audio-analysis/0VSX...</td>\n      <td>123661</td>\n      <td>3</td>\n      <td>Dark Trap</td>\n      <td>ProductOfDrugs (Prod. The Virus and Antidote)</td>\n      <td>NaN</td>\n      <td>NaN</td>\n    </tr>\n    <tr>\n      <th>4</th>\n      <td>0.798</td>\n      <td>0.624</td>\n      <td>2</td>\n      <td>-7.668</td>\n      <td>1</td>\n      <td>0.2930</td>\n      <td>0.2170</td>\n      <td>0.000000</td>\n      <td>0.1660</td>\n      <td>0.5910</td>\n      <td>...</td>\n      <td>4jCeguq9rMTlbMmPHuO7S3</td>\n      <td>spotify:track:4jCeguq9rMTlbMmPHuO7S3</td>\n      <td>https://api.spotify.com/v1/tracks/4jCeguq9rMTl...</td>\n      <td>https://api.spotify.com/v1/audio-analysis/4jCe...</td>\n      <td>123298</td>\n      <td>4</td>\n      <td>Dark Trap</td>\n      <td>Venom</td>\n      <td>NaN</td>\n      <td>NaN</td>\n    </tr>\n  </tbody>\n</table>\n<p>5 rows × 22 columns</p>\n</div>"
     },
     "execution_count": 41,
     "metadata": {},
     "output_type": "execute_result"
    }
   ],
   "source": [
    "df = pd.read_csv('./data/genres_v2.csv')\n",
    "df.head()"
   ],
   "metadata": {
    "collapsed": false,
    "pycharm": {
     "name": "#%%\n"
    }
   }
  },
  {
   "cell_type": "markdown",
   "source": [
    "2. Check for null values and drop columns."
   ],
   "metadata": {
    "collapsed": false,
    "pycharm": {
     "name": "#%% md\n"
    }
   }
  },
  {
   "cell_type": "code",
   "execution_count": 42,
   "outputs": [
    {
     "data": {
      "text/plain": "danceability            0\nenergy                  0\nkey                     0\nloudness                0\nmode                    0\nspeechiness             0\nacousticness            0\ninstrumentalness        0\nliveness                0\nvalence                 0\ntempo                   0\ntype                    0\nid                      0\nuri                     0\ntrack_href              0\nanalysis_url            0\nduration_ms             0\ntime_signature          0\ngenre                   0\nsong_name           20786\nUnnamed: 0          21525\ntitle               21525\ndtype: int64"
     },
     "execution_count": 42,
     "metadata": {},
     "output_type": "execute_result"
    }
   ],
   "source": [
    "df.isnull().sum()"
   ],
   "metadata": {
    "collapsed": false,
    "pycharm": {
     "name": "#%%\n"
    }
   }
  },
  {
   "cell_type": "code",
   "execution_count": 43,
   "outputs": [
    {
     "data": {
      "text/plain": "(42305, 22)"
     },
     "execution_count": 43,
     "metadata": {},
     "output_type": "execute_result"
    }
   ],
   "source": [
    "df.shape"
   ],
   "metadata": {
    "collapsed": false,
    "pycharm": {
     "name": "#%%\n"
    }
   }
  },
  {
   "cell_type": "markdown",
   "source": [
    "The columns Unnamed: 0, title, and song_name are made of half null values. Therefore these columns are being dropped\n",
    "from the dataframe."
   ],
   "metadata": {
    "collapsed": false,
    "pycharm": {
     "name": "#%% md\n"
    }
   }
  },
  {
   "cell_type": "code",
   "execution_count": 44,
   "outputs": [],
   "source": [
    "df.drop(columns= ['Unnamed: 0', 'title', 'song_name'], inplace=True)"
   ],
   "metadata": {
    "collapsed": false,
    "pycharm": {
     "name": "#%%\n"
    }
   }
  },
  {
   "cell_type": "markdown",
   "source": [
    "3. Check data types and correct any issues within dataset"
   ],
   "metadata": {
    "collapsed": false,
    "pycharm": {
     "name": "#%% md\n"
    }
   }
  },
  {
   "cell_type": "code",
   "execution_count": 45,
   "outputs": [
    {
     "name": "stdout",
     "output_type": "stream",
     "text": [
      "<class 'pandas.core.frame.DataFrame'>\n",
      "RangeIndex: 42305 entries, 0 to 42304\n",
      "Data columns (total 19 columns):\n",
      " #   Column            Non-Null Count  Dtype  \n",
      "---  ------            --------------  -----  \n",
      " 0   danceability      42305 non-null  float64\n",
      " 1   energy            42305 non-null  float64\n",
      " 2   key               42305 non-null  int64  \n",
      " 3   loudness          42305 non-null  float64\n",
      " 4   mode              42305 non-null  int64  \n",
      " 5   speechiness       42305 non-null  float64\n",
      " 6   acousticness      42305 non-null  float64\n",
      " 7   instrumentalness  42305 non-null  float64\n",
      " 8   liveness          42305 non-null  float64\n",
      " 9   valence           42305 non-null  float64\n",
      " 10  tempo             42305 non-null  float64\n",
      " 11  type              42305 non-null  object \n",
      " 12  id                42305 non-null  object \n",
      " 13  uri               42305 non-null  object \n",
      " 14  track_href        42305 non-null  object \n",
      " 15  analysis_url      42305 non-null  object \n",
      " 16  duration_ms       42305 non-null  int64  \n",
      " 17  time_signature    42305 non-null  int64  \n",
      " 18  genre             42305 non-null  object \n",
      "dtypes: float64(9), int64(4), object(6)\n",
      "memory usage: 6.1+ MB\n"
     ]
    }
   ],
   "source": [
    "df.info()"
   ],
   "metadata": {
    "collapsed": false,
    "pycharm": {
     "name": "#%%\n"
    }
   }
  },
  {
   "cell_type": "markdown",
   "source": [
    "### EDA\n",
    "\n",
    "\n",
    "1. Check value distributions of object type columns.\n",
    "\n",
    ">Column: type"
   ],
   "metadata": {
    "collapsed": false,
    "pycharm": {
     "name": "#%% md\n"
    }
   }
  },
  {
   "cell_type": "code",
   "execution_count": 46,
   "outputs": [],
   "source": [
    "df.type.value_counts()\n",
    "\n",
    "#all data has the same type so I am dropping this column.\n",
    "df.drop(columns='type', inplace=True)"
   ],
   "metadata": {
    "collapsed": false,
    "pycharm": {
     "name": "#%%\n"
    }
   }
  },
  {
   "cell_type": "markdown",
   "source": [
    "> Column: id"
   ],
   "metadata": {
    "collapsed": false,
    "pycharm": {
     "name": "#%% md\n"
    }
   }
  },
  {
   "cell_type": "code",
   "execution_count": 47,
   "outputs": [
    {
     "data": {
      "text/plain": "7D5qMGajdfznFcXFArk5VE    9\n5cRDn5aGMLvWsldoRmOOz0    8\n3BSuC9Y6MhalaLlhyNbTYZ    8\n5lXY6PTuWXOludKy4zDQwM    8\n71NOmiKvk7s5R7dUurNjuy    7\n                         ..\n4AH8GJVosfrbfhe5NVTAnx    1\n2ByzQkzLwhXeUPgpFAuVHu    1\n1E6dCLM7YtLr1yVDouA7kO    1\n0ifIudDeWelhhKzNqP12jm    1\n050eFzayNkZrY2peMrUskK    1\nName: id, Length: 35877, dtype: int64"
     },
     "execution_count": 47,
     "metadata": {},
     "output_type": "execute_result"
    }
   ],
   "source": [
    "df.id.value_counts()"
   ],
   "metadata": {
    "collapsed": false,
    "pycharm": {
     "name": "#%%\n"
    }
   }
  },
  {
   "cell_type": "markdown",
   "source": [
    "These are string ids for the songs in the dataset.  These values should be dropped as there are too many unique values\n",
    "that will make the model over fit."
   ],
   "metadata": {
    "collapsed": false,
    "pycharm": {
     "name": "#%% md\n"
    }
   }
  },
  {
   "cell_type": "code",
   "execution_count": 48,
   "outputs": [],
   "source": [
    "df.drop(columns='id', inplace= True)"
   ],
   "metadata": {
    "collapsed": false,
    "pycharm": {
     "name": "#%%\n"
    }
   }
  },
  {
   "cell_type": "markdown",
   "source": [
    "> Column: uri"
   ],
   "metadata": {
    "collapsed": false,
    "pycharm": {
     "name": "#%% md\n"
    }
   }
  },
  {
   "cell_type": "code",
   "execution_count": 49,
   "outputs": [
    {
     "data": {
      "text/plain": "spotify:track:7D5qMGajdfznFcXFArk5VE    9\nspotify:track:5lXY6PTuWXOludKy4zDQwM    8\nspotify:track:3BSuC9Y6MhalaLlhyNbTYZ    8\nspotify:track:5cRDn5aGMLvWsldoRmOOz0    8\nspotify:track:7CN6ZYIX338ekn7pb2CpQp    7\n                                       ..\nspotify:track:79Y2fQStWYfe04RhcMZBU2    1\nspotify:track:1cwT73fXUjQXmxNrTKDuM3    1\nspotify:track:6bCUc6qaw54tyqLrQG9gE7    1\nspotify:track:2kM3gIkHRiikiaIUFk3Fje    1\nspotify:track:45KsTd0ZqKlgw0fNc8oyC5    1\nName: uri, Length: 35877, dtype: int64"
     },
     "execution_count": 49,
     "metadata": {},
     "output_type": "execute_result"
    }
   ],
   "source": [
    "df.uri.value_counts()"
   ],
   "metadata": {
    "collapsed": false,
    "pycharm": {
     "name": "#%%\n"
    }
   }
  },
  {
   "cell_type": "markdown",
   "source": [
    "This column contains similar data as in the id column.  This coulmn should be dropped as well to prevent creating too\n",
    "many features when dummying the columns."
   ],
   "metadata": {
    "collapsed": false,
    "pycharm": {
     "name": "#%% md\n"
    }
   }
  },
  {
   "cell_type": "code",
   "execution_count": 50,
   "outputs": [],
   "source": [
    "df.drop(columns='uri', inplace= True)"
   ],
   "metadata": {
    "collapsed": false,
    "pycharm": {
     "name": "#%%\n"
    }
   }
  },
  {
   "cell_type": "markdown",
   "source": [
    "> Column: track_href\n",
    "\n",
    "track_href is the url for the specific track. This column will not make give good data fro the model and will be dropped."
   ],
   "metadata": {
    "collapsed": false,
    "pycharm": {
     "name": "#%% md\n"
    }
   }
  },
  {
   "cell_type": "code",
   "execution_count": 51,
   "outputs": [],
   "source": [
    "df.drop(columns='track_href', inplace= True)"
   ],
   "metadata": {
    "collapsed": false,
    "pycharm": {
     "name": "#%%\n"
    }
   }
  },
  {
   "cell_type": "markdown",
   "source": [
    "> Column: analysis_url"
   ],
   "metadata": {
    "collapsed": false,
    "pycharm": {
     "name": "#%% md\n"
    }
   }
  },
  {
   "cell_type": "code",
   "execution_count": 52,
   "outputs": [
    {
     "data": {
      "text/plain": "https://api.spotify.com/v1/audio-analysis/7D5qMGajdfznFcXFArk5VE    9\nhttps://api.spotify.com/v1/audio-analysis/5lXY6PTuWXOludKy4zDQwM    8\nhttps://api.spotify.com/v1/audio-analysis/3BSuC9Y6MhalaLlhyNbTYZ    8\nhttps://api.spotify.com/v1/audio-analysis/5cRDn5aGMLvWsldoRmOOz0    8\nhttps://api.spotify.com/v1/audio-analysis/2KVv2zAjDHxymySY5EIaAz    7\n                                                                   ..\nhttps://api.spotify.com/v1/audio-analysis/31RPJ5Fp0lDcBdj7cqcANc    1\nhttps://api.spotify.com/v1/audio-analysis/2RfT1lgI87TDqWFM10dBVa    1\nhttps://api.spotify.com/v1/audio-analysis/5APtjCmZ4YGTVGTXr0JaaP    1\nhttps://api.spotify.com/v1/audio-analysis/7d15bDw2yme0mvwxq3tLLb    1\nhttps://api.spotify.com/v1/audio-analysis/7ilEP6shKFOuX2O1OgXnm4    1\nName: analysis_url, Length: 35877, dtype: int64"
     },
     "execution_count": 52,
     "metadata": {},
     "output_type": "execute_result"
    }
   ],
   "source": [
    "df.analysis_url.value_counts()"
   ],
   "metadata": {
    "collapsed": false,
    "pycharm": {
     "name": "#%%\n"
    }
   }
  },
  {
   "cell_type": "markdown",
   "source": [
    "This column contains similar data as in the track_href column.  This column should be dropped as well to prevent creating too\n",
    "many features when dummying the columns."
   ],
   "metadata": {
    "collapsed": false,
    "pycharm": {
     "name": "#%% md\n"
    }
   }
  },
  {
   "cell_type": "code",
   "execution_count": 53,
   "outputs": [],
   "source": [
    "df.drop(columns='analysis_url', inplace=True)"
   ],
   "metadata": {
    "collapsed": false,
    "pycharm": {
     "name": "#%%\n"
    }
   }
  },
  {
   "cell_type": "code",
   "execution_count": 61,
   "outputs": [
    {
     "data": {
      "text/plain": "       danceability        energy           key      loudness          mode  \\\ncount  42305.000000  42305.000000  42305.000000  42305.000000  42305.000000   \nmean       0.639364      0.762516      5.370240     -6.465442      0.549462   \nstd        0.156617      0.183823      3.666145      2.941165      0.497553   \nmin        0.065100      0.000243      0.000000    -33.357000      0.000000   \n25%        0.524000      0.632000      1.000000     -8.161000      0.000000   \n50%        0.646000      0.803000      6.000000     -6.234000      1.000000   \n75%        0.766000      0.923000      9.000000     -4.513000      1.000000   \nmax        0.988000      1.000000     11.000000      3.148000      1.000000   \n\n        speechiness  acousticness  instrumentalness      liveness  \\\ncount  42305.000000  42305.000000      42305.000000  42305.000000   \nmean       0.136561      0.096160          0.283048      0.214079   \nstd        0.126168      0.170827          0.370791      0.175576   \nmin        0.022700      0.000001          0.000000      0.010700   \n25%        0.049100      0.001730          0.000000      0.099600   \n50%        0.075500      0.016400          0.005940      0.135000   \n75%        0.193000      0.107000          0.722000      0.294000   \nmax        0.946000      0.988000          0.989000      0.988000   \n\n            valence         tempo    duration_ms  time_signature  \ncount  42305.000000  42305.000000   42305.000000    42305.000000  \nmean       0.357101    147.474056  250865.846685        3.972580  \nstd        0.233200     23.844623  102957.713571        0.268342  \nmin        0.018700     57.967000   25600.000000        1.000000  \n25%        0.161000    129.931000  179840.000000        4.000000  \n50%        0.322000    144.973000  224760.000000        4.000000  \n75%        0.522000    161.464000  301133.000000        4.000000  \nmax        0.988000    220.290000  913052.000000        5.000000  ",
      "text/html": "<div>\n<style scoped>\n    .dataframe tbody tr th:only-of-type {\n        vertical-align: middle;\n    }\n\n    .dataframe tbody tr th {\n        vertical-align: top;\n    }\n\n    .dataframe thead th {\n        text-align: right;\n    }\n</style>\n<table border=\"1\" class=\"dataframe\">\n  <thead>\n    <tr style=\"text-align: right;\">\n      <th></th>\n      <th>danceability</th>\n      <th>energy</th>\n      <th>key</th>\n      <th>loudness</th>\n      <th>mode</th>\n      <th>speechiness</th>\n      <th>acousticness</th>\n      <th>instrumentalness</th>\n      <th>liveness</th>\n      <th>valence</th>\n      <th>tempo</th>\n      <th>duration_ms</th>\n      <th>time_signature</th>\n    </tr>\n  </thead>\n  <tbody>\n    <tr>\n      <th>count</th>\n      <td>42305.000000</td>\n      <td>42305.000000</td>\n      <td>42305.000000</td>\n      <td>42305.000000</td>\n      <td>42305.000000</td>\n      <td>42305.000000</td>\n      <td>42305.000000</td>\n      <td>42305.000000</td>\n      <td>42305.000000</td>\n      <td>42305.000000</td>\n      <td>42305.000000</td>\n      <td>42305.000000</td>\n      <td>42305.000000</td>\n    </tr>\n    <tr>\n      <th>mean</th>\n      <td>0.639364</td>\n      <td>0.762516</td>\n      <td>5.370240</td>\n      <td>-6.465442</td>\n      <td>0.549462</td>\n      <td>0.136561</td>\n      <td>0.096160</td>\n      <td>0.283048</td>\n      <td>0.214079</td>\n      <td>0.357101</td>\n      <td>147.474056</td>\n      <td>250865.846685</td>\n      <td>3.972580</td>\n    </tr>\n    <tr>\n      <th>std</th>\n      <td>0.156617</td>\n      <td>0.183823</td>\n      <td>3.666145</td>\n      <td>2.941165</td>\n      <td>0.497553</td>\n      <td>0.126168</td>\n      <td>0.170827</td>\n      <td>0.370791</td>\n      <td>0.175576</td>\n      <td>0.233200</td>\n      <td>23.844623</td>\n      <td>102957.713571</td>\n      <td>0.268342</td>\n    </tr>\n    <tr>\n      <th>min</th>\n      <td>0.065100</td>\n      <td>0.000243</td>\n      <td>0.000000</td>\n      <td>-33.357000</td>\n      <td>0.000000</td>\n      <td>0.022700</td>\n      <td>0.000001</td>\n      <td>0.000000</td>\n      <td>0.010700</td>\n      <td>0.018700</td>\n      <td>57.967000</td>\n      <td>25600.000000</td>\n      <td>1.000000</td>\n    </tr>\n    <tr>\n      <th>25%</th>\n      <td>0.524000</td>\n      <td>0.632000</td>\n      <td>1.000000</td>\n      <td>-8.161000</td>\n      <td>0.000000</td>\n      <td>0.049100</td>\n      <td>0.001730</td>\n      <td>0.000000</td>\n      <td>0.099600</td>\n      <td>0.161000</td>\n      <td>129.931000</td>\n      <td>179840.000000</td>\n      <td>4.000000</td>\n    </tr>\n    <tr>\n      <th>50%</th>\n      <td>0.646000</td>\n      <td>0.803000</td>\n      <td>6.000000</td>\n      <td>-6.234000</td>\n      <td>1.000000</td>\n      <td>0.075500</td>\n      <td>0.016400</td>\n      <td>0.005940</td>\n      <td>0.135000</td>\n      <td>0.322000</td>\n      <td>144.973000</td>\n      <td>224760.000000</td>\n      <td>4.000000</td>\n    </tr>\n    <tr>\n      <th>75%</th>\n      <td>0.766000</td>\n      <td>0.923000</td>\n      <td>9.000000</td>\n      <td>-4.513000</td>\n      <td>1.000000</td>\n      <td>0.193000</td>\n      <td>0.107000</td>\n      <td>0.722000</td>\n      <td>0.294000</td>\n      <td>0.522000</td>\n      <td>161.464000</td>\n      <td>301133.000000</td>\n      <td>4.000000</td>\n    </tr>\n    <tr>\n      <th>max</th>\n      <td>0.988000</td>\n      <td>1.000000</td>\n      <td>11.000000</td>\n      <td>3.148000</td>\n      <td>1.000000</td>\n      <td>0.946000</td>\n      <td>0.988000</td>\n      <td>0.989000</td>\n      <td>0.988000</td>\n      <td>0.988000</td>\n      <td>220.290000</td>\n      <td>913052.000000</td>\n      <td>5.000000</td>\n    </tr>\n  </tbody>\n</table>\n</div>"
     },
     "execution_count": 61,
     "metadata": {},
     "output_type": "execute_result"
    }
   ],
   "source": [
    "df.describe()"
   ],
   "metadata": {
    "collapsed": false,
    "pycharm": {
     "name": "#%%\n"
    }
   }
  },
  {
   "cell_type": "code",
   "execution_count": 62,
   "outputs": [
    {
     "data": {
      "text/plain": "0.804    189\n0.808    163\n0.800    150\n0.802    149\n0.803    149\n        ... \n0.116      1\n0.981      1\n0.187      1\n0.201      1\n0.214      1\nName: danceability, Length: 890, dtype: int64"
     },
     "execution_count": 62,
     "metadata": {},
     "output_type": "execute_result"
    }
   ],
   "source": [
    "df.danceability.value_counts()"
   ],
   "metadata": {
    "collapsed": false,
    "pycharm": {
     "name": "#%%\n"
    }
   }
  },
  {
   "cell_type": "markdown",
   "source": [
    "These are percentage values the describe the danceability in the song."
   ],
   "metadata": {
    "collapsed": false
   }
  },
  {
   "cell_type": "code",
   "execution_count": 68,
   "outputs": [
    {
     "data": {
      "text/plain": "0.977    188\n0.942    175\n0.953    171\n0.956    168\n0.970    166\n        ... \n0.212      1\n0.338      1\n0.246      1\n0.234      1\n0.497      1\nName: energy, Length: 917, dtype: int64"
     },
     "execution_count": 68,
     "metadata": {},
     "output_type": "execute_result"
    }
   ],
   "source": [
    "df.energy.value_counts()"
   ],
   "metadata": {
    "collapsed": false,
    "pycharm": {
     "name": "#%%\n"
    }
   }
  },
  {
   "cell_type": "markdown",
   "source": [
    "These are percentage values the describe the energy in the song."
   ],
   "metadata": {
    "collapsed": false,
    "pycharm": {
     "name": "#%% md\n"
    }
   }
  },
  {
   "cell_type": "code",
   "execution_count": 70,
   "outputs": [
    {
     "data": {
      "text/plain": "1     7537\n7     4275\n11    4150\n6     3714\n0     3470\n8     3345\n9     3254\n10    3251\n2     3047\n5     2994\n4     2368\n3      900\nName: key, dtype: int64"
     },
     "execution_count": 70,
     "metadata": {},
     "output_type": "execute_result"
    }
   ],
   "source": [
    "df.key.value_counts()"
   ],
   "metadata": {
    "collapsed": false,
    "pycharm": {
     "name": "#%%\n"
    }
   }
  },
  {
   "cell_type": "markdown",
   "source": [
    "These are class like values and will need to be dummified to model as these values should not be treated like numbers."
   ],
   "metadata": {
    "collapsed": false,
    "pycharm": {
     "name": "#%% md\n"
    }
   }
  },
  {
   "cell_type": "code",
   "execution_count": 73,
   "outputs": [
    {
     "data": {
      "text/plain": "count    42305.000000\nmean        -6.465442\nstd          2.941165\nmin        -33.357000\n25%         -8.161000\n50%         -6.234000\n75%         -4.513000\nmax          3.148000\nName: loudness, dtype: float64"
     },
     "execution_count": 73,
     "metadata": {},
     "output_type": "execute_result"
    }
   ],
   "source": [
    "df.loudness.describe()"
   ],
   "metadata": {
    "collapsed": false,
    "pycharm": {
     "name": "#%%\n"
    }
   }
  },
  {
   "cell_type": "markdown",
   "source": [
    "These are numeric values that describe the loudness of the song."
   ],
   "metadata": {
    "collapsed": false,
    "pycharm": {
     "name": "#%% md\n"
    }
   }
  },
  {
   "cell_type": "code",
   "execution_count": 75,
   "outputs": [
    {
     "data": {
      "text/plain": "1    23245\n0    19060\nName: mode, dtype: int64"
     },
     "execution_count": 75,
     "metadata": {},
     "output_type": "execute_result"
    }
   ],
   "source": [
    "df['mode'].value_counts()"
   ],
   "metadata": {
    "collapsed": false,
    "pycharm": {
     "name": "#%%\n"
    }
   }
  },
  {
   "cell_type": "markdown",
   "source": [
    "This is a class like feature that is a binary descriptor of mode."
   ],
   "metadata": {
    "collapsed": false,
    "pycharm": {
     "name": "#%% md\n"
    }
   }
  },
  {
   "cell_type": "code",
   "execution_count": 77,
   "outputs": [
    {
     "data": {
      "text/plain": "count    42305.000000\nmean         0.136561\nstd          0.126168\nmin          0.022700\n25%          0.049100\n50%          0.075500\n75%          0.193000\nmax          0.946000\nName: speechiness, dtype: float64"
     },
     "execution_count": 77,
     "metadata": {},
     "output_type": "execute_result"
    }
   ],
   "source": [
    "df.speechiness.describe()"
   ],
   "metadata": {
    "collapsed": false,
    "pycharm": {
     "name": "#%%\n"
    }
   }
  },
  {
   "cell_type": "markdown",
   "source": [
    "These are numeric percentages that describe the speechiness quality of the song."
   ],
   "metadata": {
    "collapsed": false,
    "pycharm": {
     "name": "#%% md\n"
    }
   }
  },
  {
   "cell_type": "code",
   "execution_count": 78,
   "outputs": [
    {
     "data": {
      "text/plain": "count    42305.000000\nmean         0.096160\nstd          0.170827\nmin          0.000001\n25%          0.001730\n50%          0.016400\n75%          0.107000\nmax          0.988000\nName: acousticness, dtype: float64"
     },
     "execution_count": 78,
     "metadata": {},
     "output_type": "execute_result"
    }
   ],
   "source": [
    "df.acousticness.describe()"
   ],
   "metadata": {
    "collapsed": false,
    "pycharm": {
     "name": "#%%\n"
    }
   }
  },
  {
   "cell_type": "markdown",
   "source": [
    "These are numeric percentages that describe the speechiness percentage of the song."
   ],
   "metadata": {
    "collapsed": false,
    "pycharm": {
     "name": "#%% md\n"
    }
   }
  },
  {
   "cell_type": "code",
   "execution_count": 80,
   "outputs": [
    {
     "data": {
      "text/plain": "count    42305.000000\nmean         0.283048\nstd          0.370791\nmin          0.000000\n25%          0.000000\n50%          0.005940\n75%          0.722000\nmax          0.989000\nName: instrumentalness, dtype: float64"
     },
     "execution_count": 80,
     "metadata": {},
     "output_type": "execute_result"
    }
   ],
   "source": [
    "df.instrumentalness.describe()"
   ],
   "metadata": {
    "collapsed": false,
    "pycharm": {
     "name": "#%%\n"
    }
   }
  },
  {
   "cell_type": "markdown",
   "source": [
    "These are numeric percentages that describe the instrumental percentage of the song."
   ],
   "metadata": {
    "collapsed": false,
    "pycharm": {
     "name": "#%% md\n"
    }
   }
  },
  {
   "cell_type": "code",
   "execution_count": 82,
   "outputs": [
    {
     "data": {
      "text/plain": "count    42305.000000\nmean         0.214079\nstd          0.175576\nmin          0.010700\n25%          0.099600\n50%          0.135000\n75%          0.294000\nmax          0.988000\nName: liveness, dtype: float64"
     },
     "execution_count": 82,
     "metadata": {},
     "output_type": "execute_result"
    }
   ],
   "source": [
    "df.liveness.describe()"
   ],
   "metadata": {
    "collapsed": false,
    "pycharm": {
     "name": "#%%\n"
    }
   }
  },
  {
   "cell_type": "markdown",
   "source": [
    "These are numeric percentages that describe the instrumental percentage of the song.\n"
   ],
   "metadata": {
    "collapsed": false,
    "pycharm": {
     "name": "#%% md\n"
    }
   }
  },
  {
   "cell_type": "code",
   "execution_count": 84,
   "outputs": [
    {
     "data": {
      "text/plain": "count    42305.000000\nmean         0.357101\nstd          0.233200\nmin          0.018700\n25%          0.161000\n50%          0.322000\n75%          0.522000\nmax          0.988000\nName: valence, dtype: float64"
     },
     "execution_count": 84,
     "metadata": {},
     "output_type": "execute_result"
    }
   ],
   "source": [
    "df.valence.describe()"
   ],
   "metadata": {
    "collapsed": false,
    "pycharm": {
     "name": "#%%\n"
    }
   }
  },
  {
   "cell_type": "markdown",
   "source": [
    "These are numeric percentages that describe the instrumental percentage of the song."
   ],
   "metadata": {
    "collapsed": false
   }
  },
  {
   "cell_type": "code",
   "execution_count": 86,
   "outputs": [
    {
     "data": {
      "text/plain": "count    42305.000000\nmean       147.474056\nstd         23.844623\nmin         57.967000\n25%        129.931000\n50%        144.973000\n75%        161.464000\nmax        220.290000\nName: tempo, dtype: float64"
     },
     "execution_count": 86,
     "metadata": {},
     "output_type": "execute_result"
    }
   ],
   "source": [
    "df.tempo.describe()"
   ],
   "metadata": {
    "collapsed": false,
    "pycharm": {
     "name": "#%%\n"
    }
   }
  },
  {
   "cell_type": "markdown",
   "source": [],
   "metadata": {
    "collapsed": false,
    "pycharm": {
     "name": "#%% md\n"
    }
   }
  },
  {
   "cell_type": "code",
   "execution_count": 88,
   "outputs": [
    {
     "data": {
      "text/plain": "count     42305.000000\nmean     250865.846685\nstd      102957.713571\nmin       25600.000000\n25%      179840.000000\n50%      224760.000000\n75%      301133.000000\nmax      913052.000000\nName: duration_ms, dtype: float64"
     },
     "execution_count": 88,
     "metadata": {},
     "output_type": "execute_result"
    }
   ],
   "source": [
    "df.duration_ms.describe()"
   ],
   "metadata": {
    "collapsed": false,
    "pycharm": {
     "name": "#%%\n"
    }
   }
  },
  {
   "cell_type": "markdown",
   "source": [
    "These are the song durations in milliseconds. These are numeric values."
   ],
   "metadata": {
    "collapsed": false,
    "pycharm": {
     "name": "#%% md\n"
    }
   }
  },
  {
   "cell_type": "code",
   "execution_count": 89,
   "outputs": [
    {
     "data": {
      "text/plain": "4    40427\n3     1219\n5      509\n1      150\nName: time_signature, dtype: int64"
     },
     "execution_count": 89,
     "metadata": {},
     "output_type": "execute_result"
    }
   ],
   "source": [
    "df.time_signature.value_counts()"
   ],
   "metadata": {
    "collapsed": false,
    "pycharm": {
     "name": "#%%\n"
    }
   }
  },
  {
   "cell_type": "code",
   "execution_count": 55,
   "outputs": [
    {
     "data": {
      "text/plain": "Text(0.5, 1.0, 'Number of Songs for the Top 20 Genres.')"
     },
     "execution_count": 55,
     "metadata": {},
     "output_type": "execute_result"
    },
    {
     "data": {
      "text/plain": "<Figure size 864x720 with 1 Axes>",
      "image/png": "[encoded data removed]"
     },
     "metadata": {
      "needs_background": "light"
     },
     "output_type": "display_data"
    }
   ],
   "source": [
    "plt.figure(figsize=(12,10))\n",
    "plt.bar(height=df['genre'].value_counts()[:20], x = df['genre'].value_counts().index[:20])\n",
    "plt.xlabel('type')\n",
    "plt.ylabel('Number of Songs')\n",
    "plt.title('Number of Songs for the Top 20 Genres.')\n"
   ],
   "metadata": {
    "collapsed": false,
    "pycharm": {
     "name": "#%%\n"
    }
   }
  },
  {
   "cell_type": "code",
   "execution_count": 90,
   "outputs": [],
   "source": [
    "df.to_csv('./data/clean_data.csv')"
   ],
   "metadata": {
    "collapsed": false,
    "pycharm": {
     "name": "#%%\n"
    }
   }
  }
 ],
 "metadata": {
  "kernelspec": {
   "display_name": "Python 3",
   "language": "python",
   "name": "python3"
  },
  "language_info": {
   "codemirror_mode": {
    "name": "ipython",
    "version": 2
   },
   "file_extension": ".py",
   "mimetype": "text/x-python",
   "name": "python",
   "nbconvert_exporter": "python",
   "pygments_lexer": "ipython2",
   "version": "2.7.6"
  }
 },
 "nbformat": 4,
 "nbformat_minor": 0
}