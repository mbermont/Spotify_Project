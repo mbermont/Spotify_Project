{
 "cells": [
  {
   "cell_type": "markdown",
   "source": [
    "This is a notebook to examine the modeling to answer the problem of assiging a genre to a song based on Spotify\n",
    "metadata of a song."
   ],
   "metadata": {
    "collapsed": false,
    "pycharm": {
     "name": "#%% md\n"
    }
   }
  },
  {
   "cell_type": "markdown",
   "source": [
    "Imports"
   ],
   "metadata": {
    "collapsed": false,
    "pycharm": {
     "name": "#%% md\n"
    }
   }
  },
  {
   "cell_type": "code",
   "execution_count": 31,
   "outputs": [],
   "source": [
    "import pandas as pd\n",
    "import numpy as np\n",
    "import seaborn as sns\n",
    "import matplotlib.pyplot as plt\n",
    "\n",
    "from sklearn.model_selection import train_test_split\n",
    "from sklearn.preprocessing import StandardScaler\n",
    "\n",
    "import torch\n",
    "import torch.nn as nn\n",
    "import torch.nn.functional as F"
   ],
   "metadata": {
    "collapsed": false,
    "pycharm": {
     "name": "#%%\n"
    }
   }
  },
  {
   "cell_type": "markdown",
   "source": [
    "Read in clean data"
   ],
   "metadata": {
    "collapsed": false,
    "pycharm": {
     "name": "#%% md\n"
    }
   }
  },
  {
   "cell_type": "code",
   "execution_count": 32,
   "outputs": [
    {
     "data": {
      "text/plain": "   danceability  energy  loudness  speechiness  acousticness  \\\n0         0.831   0.814    -7.364       0.4200        0.0598   \n1         0.719   0.493    -7.230       0.0794        0.4010   \n2         0.850   0.893    -4.783       0.0623        0.0138   \n3         0.476   0.781    -4.710       0.1030        0.0237   \n4         0.798   0.624    -7.668       0.2930        0.2170   \n\n   instrumentalness  liveness  valence    tempo                      id  ...  \\\n0          0.013400    0.0556   0.3890  156.985  2Vc6NJ9PW9gD9q343XFRKx  ...   \n1          0.000000    0.1180   0.1240  115.080  7pgJBLVz5VmnL7uGHmRj6p  ...   \n2          0.000004    0.3720   0.0391  218.050  0vSWgAlfpye0WCGeNmuNhy  ...   \n3          0.000000    0.1140   0.1750  186.948  0VSXnJqQkwuH2ei1nOQ1nu  ...   \n4          0.000000    0.1660   0.5910  147.988  4jCeguq9rMTlbMmPHuO7S3  ...   \n\n   key_6  key_7 key_8  key_9  key_10  key_11  time_signature_3  \\\n0      0      0     0      0       0       0                 0   \n1      0      0     1      0       0       0                 0   \n2      0      0     0      0       0       0                 0   \n3      0      0     0      0       0       0                 1   \n4      0      0     0      0       0       0                 0   \n\n   time_signature_4  time_signature_5  mode_1  \n0                 1                 0       1  \n1                 1                 0       1  \n2                 1                 0       1  \n3                 0                 0       1  \n4                 1                 0       1  \n\n[5 rows x 30 columns]",
      "text/html": "<div>\n<style scoped>\n    .dataframe tbody tr th:only-of-type {\n        vertical-align: middle;\n    }\n\n    .dataframe tbody tr th {\n        vertical-align: top;\n    }\n\n    .dataframe thead th {\n        text-align: right;\n    }\n</style>\n<table border=\"1\" class=\"dataframe\">\n  <thead>\n    <tr style=\"text-align: right;\">\n      <th></th>\n      <th>danceability</th>\n      <th>energy</th>\n      <th>loudness</th>\n      <th>speechiness</th>\n      <th>acousticness</th>\n      <th>instrumentalness</th>\n      <th>liveness</th>\n      <th>valence</th>\n      <th>tempo</th>\n      <th>id</th>\n      <th>...</th>\n      <th>key_6</th>\n      <th>key_7</th>\n      <th>key_8</th>\n      <th>key_9</th>\n      <th>key_10</th>\n      <th>key_11</th>\n      <th>time_signature_3</th>\n      <th>time_signature_4</th>\n      <th>time_signature_5</th>\n      <th>mode_1</th>\n    </tr>\n  </thead>\n  <tbody>\n    <tr>\n      <th>0</th>\n      <td>0.831</td>\n      <td>0.814</td>\n      <td>-7.364</td>\n      <td>0.4200</td>\n      <td>0.0598</td>\n      <td>0.013400</td>\n      <td>0.0556</td>\n      <td>0.3890</td>\n      <td>156.985</td>\n      <td>2Vc6NJ9PW9gD9q343XFRKx</td>\n      <td>...</td>\n      <td>0</td>\n      <td>0</td>\n      <td>0</td>\n      <td>0</td>\n      <td>0</td>\n      <td>0</td>\n      <td>0</td>\n      <td>1</td>\n      <td>0</td>\n      <td>1</td>\n    </tr>\n    <tr>\n      <th>1</th>\n      <td>0.719</td>\n      <td>0.493</td>\n      <td>-7.230</td>\n      <td>0.0794</td>\n      <td>0.4010</td>\n      <td>0.000000</td>\n      <td>0.1180</td>\n      <td>0.1240</td>\n      <td>115.080</td>\n      <td>7pgJBLVz5VmnL7uGHmRj6p</td>\n      <td>...</td>\n      <td>0</td>\n      <td>0</td>\n      <td>1</td>\n      <td>0</td>\n      <td>0</td>\n      <td>0</td>\n      <td>0</td>\n      <td>1</td>\n      <td>0</td>\n      <td>1</td>\n    </tr>\n    <tr>\n      <th>2</th>\n      <td>0.850</td>\n      <td>0.893</td>\n      <td>-4.783</td>\n      <td>0.0623</td>\n      <td>0.0138</td>\n      <td>0.000004</td>\n      <td>0.3720</td>\n      <td>0.0391</td>\n      <td>218.050</td>\n      <td>0vSWgAlfpye0WCGeNmuNhy</td>\n      <td>...</td>\n      <td>0</td>\n      <td>0</td>\n      <td>0</td>\n      <td>0</td>\n      <td>0</td>\n      <td>0</td>\n      <td>0</td>\n      <td>1</td>\n      <td>0</td>\n      <td>1</td>\n    </tr>\n    <tr>\n      <th>3</th>\n      <td>0.476</td>\n      <td>0.781</td>\n      <td>-4.710</td>\n      <td>0.1030</td>\n      <td>0.0237</td>\n      <td>0.000000</td>\n      <td>0.1140</td>\n      <td>0.1750</td>\n      <td>186.948</td>\n      <td>0VSXnJqQkwuH2ei1nOQ1nu</td>\n      <td>...</td>\n      <td>0</td>\n      <td>0</td>\n      <td>0</td>\n      <td>0</td>\n      <td>0</td>\n      <td>0</td>\n      <td>1</td>\n      <td>0</td>\n      <td>0</td>\n      <td>1</td>\n    </tr>\n    <tr>\n      <th>4</th>\n      <td>0.798</td>\n      <td>0.624</td>\n      <td>-7.668</td>\n      <td>0.2930</td>\n      <td>0.2170</td>\n      <td>0.000000</td>\n      <td>0.1660</td>\n      <td>0.5910</td>\n      <td>147.988</td>\n      <td>4jCeguq9rMTlbMmPHuO7S3</td>\n      <td>...</td>\n      <td>0</td>\n      <td>0</td>\n      <td>0</td>\n      <td>0</td>\n      <td>0</td>\n      <td>0</td>\n      <td>0</td>\n      <td>1</td>\n      <td>0</td>\n      <td>1</td>\n    </tr>\n  </tbody>\n</table>\n<p>5 rows × 30 columns</p>\n</div>"
     },
     "execution_count": 32,
     "metadata": {},
     "output_type": "execute_result"
    }
   ],
   "source": [
    "data = pd.read_csv('./data/clean_data.csv')\n",
    "\n",
    "data.head()"
   ],
   "metadata": {
    "collapsed": false,
    "pycharm": {
     "name": "#%%\n"
    }
   }
  },
  {
   "cell_type": "code",
   "execution_count": 33,
   "outputs": [
    {
     "name": "stdout",
     "output_type": "stream",
     "text": [
      "<class 'pandas.core.frame.DataFrame'>\n",
      "RangeIndex: 42305 entries, 0 to 42304\n",
      "Data columns (total 30 columns):\n",
      " #   Column                Non-Null Count  Dtype  \n",
      "---  ------                --------------  -----  \n",
      " 0   danceability          42305 non-null  float64\n",
      " 1   energy                42305 non-null  float64\n",
      " 2   loudness              42305 non-null  float64\n",
      " 3   speechiness           42305 non-null  float64\n",
      " 4   acousticness          42305 non-null  float64\n",
      " 5   instrumentalness      42305 non-null  float64\n",
      " 6   liveness              42305 non-null  float64\n",
      " 7   valence               42305 non-null  float64\n",
      " 8   tempo                 42305 non-null  float64\n",
      " 9   id                    42305 non-null  object \n",
      " 10  duration_ms           42305 non-null  int64  \n",
      " 11  genre                 42305 non-null  int64  \n",
      " 12  song_name             42299 non-null  object \n",
      " 13  song_name_char_count  42305 non-null  int64  \n",
      " 14  song_name_word_count  42305 non-null  int64  \n",
      " 15  key_1                 42305 non-null  int64  \n",
      " 16  key_2                 42305 non-null  int64  \n",
      " 17  key_3                 42305 non-null  int64  \n",
      " 18  key_4                 42305 non-null  int64  \n",
      " 19  key_5                 42305 non-null  int64  \n",
      " 20  key_6                 42305 non-null  int64  \n",
      " 21  key_7                 42305 non-null  int64  \n",
      " 22  key_8                 42305 non-null  int64  \n",
      " 23  key_9                 42305 non-null  int64  \n",
      " 24  key_10                42305 non-null  int64  \n",
      " 25  key_11                42305 non-null  int64  \n",
      " 26  time_signature_3      42305 non-null  int64  \n",
      " 27  time_signature_4      42305 non-null  int64  \n",
      " 28  time_signature_5      42305 non-null  int64  \n",
      " 29  mode_1                42305 non-null  int64  \n",
      "dtypes: float64(9), int64(19), object(2)\n",
      "memory usage: 9.7+ MB\n"
     ]
    }
   ],
   "source": [
    "data.info()"
   ],
   "metadata": {
    "collapsed": false,
    "pycharm": {
     "name": "#%%\n"
    }
   }
  },
  {
   "cell_type": "code",
   "execution_count": 34,
   "outputs": [
    {
     "data": {
      "text/plain": "array([ 0,  0,  0, ..., 14, 14, 14], dtype=int64)"
     },
     "execution_count": 34,
     "metadata": {},
     "output_type": "execute_result"
    }
   ],
   "source": [
    "X = data.drop(columns=['id','genre', 'song_name'])\n",
    "y = np.array(data['genre'])\n",
    "\n",
    "type(y)\n",
    "y"
   ],
   "metadata": {
    "collapsed": false,
    "pycharm": {
     "name": "#%%\n"
    }
   }
  },
  {
   "cell_type": "markdown",
   "source": [
    "Split data into training and testing datasets"
   ],
   "metadata": {
    "collapsed": false,
    "pycharm": {
     "name": "#%% md\n"
    }
   }
  },
  {
   "cell_type": "code",
   "execution_count": 35,
   "outputs": [
    {
     "data": {
      "text/plain": "array([12,  9,  9, ..., 13,  0,  4], dtype=int64)"
     },
     "execution_count": 35,
     "metadata": {},
     "output_type": "execute_result"
    }
   ],
   "source": [
    "X_train, X_test, y_train, y_test = train_test_split(X,y, random_state=42)\n",
    "\n",
    "sc = StandardScaler()\n",
    "\n",
    "X_train_sc = sc.fit_transform(X_train)\n",
    "X_test_sc = sc.transform(X_test)\n",
    "\n",
    "\n",
    "\n",
    "y_train\n"
   ],
   "metadata": {
    "collapsed": false,
    "pycharm": {
     "name": "#%%\n"
    }
   }
  },
  {
   "cell_type": "code",
   "execution_count": 36,
   "outputs": [
    {
     "data": {
      "text/plain": "tensor([12,  9,  9,  ..., 13,  0,  4])"
     },
     "execution_count": 36,
     "metadata": {},
     "output_type": "execute_result"
    }
   ],
   "source": [
    "X_train_t = torch.tensor(X_train_sc).float()\n",
    "y_train_t = torch.tensor(y_train).long()\n",
    "\n",
    "X_test_t = torch.tensor(X_test_sc).float()\n",
    "y_test_t = torch.tensor(y_test).long()\n",
    "y_train_t"
   ],
   "metadata": {
    "collapsed": false,
    "pycharm": {
     "name": "#%%\n"
    }
   }
  },
  {
   "cell_type": "code",
   "execution_count": 37,
   "outputs": [],
   "source": [
    "class MultiClassModel(nn.Module):\n",
    "    def __init__(self):\n",
    "        super().__init__()\n",
    "        self.h1 = nn.Linear(27, 32)\n",
    "        self.h2 = nn.Linear(32, 64)\n",
    "        self.h3 = nn.Linear(64, 64)\n",
    "        self.h4 = nn.Linear(64, 128)\n",
    "        self.h5 = nn.Linear(128, 128)\n",
    "        #self.h6 = nn.Linear(128, 128)\n",
    "        self.out = nn.Linear(128, 15)\n",
    "\n",
    "    def forward(self, X):\n",
    "        X = F.relu(self.h1(X))\n",
    "        X = F.relu(self.h2(X))\n",
    "        X = F.relu(self.h3(X))\n",
    "        X = F.relu(self.h4(X))\n",
    "        X = F.relu(self.h5(X))\n",
    "        #X = F.relu(self.h6(X))\n",
    "        return self.out(X)\n",
    "\n",
    "\n",
    "model = MultiClassModel()\n",
    "\n",
    "loss_fn = nn.CrossEntropyLoss()"
   ],
   "metadata": {
    "collapsed": false,
    "pycharm": {
     "name": "#%%\n"
    }
   }
  },
  {
   "cell_type": "markdown",
   "source": [
    "Create your `torch.optim.Adam()` optimizer."
   ],
   "metadata": {
    "collapsed": false
   }
  },
  {
   "cell_type": "code",
   "execution_count": 38,
   "outputs": [],
   "source": [
    "optimizer = torch.optim.Adam(model.parameters(), lr=.001)"
   ],
   "metadata": {
    "collapsed": false,
    "pycharm": {
     "name": "#%%\n"
    }
   }
  },
  {
   "cell_type": "code",
   "execution_count": 39,
   "outputs": [],
   "source": [
    "train_loss = []\n",
    "testing_loss = []\n",
    "train_accuracy = []\n",
    "test_accuracy = []\n",
    "batch_size = 512\n",
    "training_size = X.shape[0]\n",
    "for epoch in range(150):\n",
    "    with torch.no_grad():\n",
    "        test_pred = model(X_test_t)\n",
    "        test_loss = loss_fn(test_pred,y_test_t)\n",
    "        testing_loss.append(test_loss.item())\n",
    "        train_pred = model(X_train_t)\n",
    "        loss = loss_fn(train_pred, y_train_t)\n",
    "        train_loss.append(loss.item())\n",
    "        train_accuracy.append((train_pred.argmax(axis=1) == y_train_t).float().mean())\n",
    "        test_accuracy.append((test_pred.argmax(axis=1) == y_test_t).float().mean())\n",
    "    for batch_idx in range(0, training_size, batch_size):\n",
    "        # zero out the optimizer's gradients\n",
    "        optimizer.zero_grad()\n",
    "\n",
    "        # Create X_batch and y_batch\n",
    "        X_batch = X_train_t[batch_idx:batch_idx + batch_size]\n",
    "        y_batch = y_train_t[batch_idx:batch_idx + batch_size]\n",
    "\n",
    "        # get predictions and loss\n",
    "        pred = model(X_batch)\n",
    "\n",
    "        loss = loss_fn(pred, y_batch)\n",
    "        # back propagate\n",
    "        loss.backward()\n",
    "\n",
    "        # step\n",
    "        optimizer.step()"
   ],
   "metadata": {
    "collapsed": false,
    "pycharm": {
     "name": "#%%\n"
    }
   }
  },
  {
   "cell_type": "code",
   "execution_count": 40,
   "outputs": [
    {
     "data": {
      "text/plain": "[<matplotlib.lines.Line2D at 0x1a98b907490>]"
     },
     "execution_count": 40,
     "metadata": {},
     "output_type": "execute_result"
    },
    {
     "data": {
      "text/plain": "<Figure size 432x288 with 1 Axes>",
      "image/png": "[encoded data removed]"
     },
     "metadata": {
      "needs_background": "light"
     },
     "output_type": "display_data"
    }
   ],
   "source": [
    "plt.plot(train_loss, color='red')\n",
    "plt.plot(testing_loss, color= 'blue')"
   ],
   "metadata": {
    "collapsed": false,
    "pycharm": {
     "name": "#%%\n"
    }
   }
  },
  {
   "cell_type": "markdown",
   "source": [
    "How did our model do?"
   ],
   "metadata": {
    "collapsed": false
   }
  },
  {
   "cell_type": "code",
   "execution_count": 41,
   "outputs": [
    {
     "data": {
      "text/plain": "[<matplotlib.lines.Line2D at 0x1a98cf716d0>]"
     },
     "execution_count": 41,
     "metadata": {},
     "output_type": "execute_result"
    },
    {
     "data": {
      "text/plain": "<Figure size 432x288 with 1 Axes>",
      "image/png": "[encoded data removed]"
     },
     "metadata": {
      "needs_background": "light"
     },
     "output_type": "display_data"
    }
   ],
   "source": [
    "plt.plot(train_accuracy, color= 'purple')\n",
    "plt.plot(test_accuracy, color= 'cyan')"
   ],
   "metadata": {
    "collapsed": false,
    "pycharm": {
     "name": "#%%\n"
    }
   }
  },
  {
   "cell_type": "code",
   "execution_count": 42,
   "outputs": [],
   "source": [
    "# with torch.no_grad():\n",
    "#     pred = model(X_test_t)\n",
    "# (pred.argmax(axis=1) == y_test_t).float().mean()\n",
    "\n",
    "\n"
   ],
   "metadata": {
    "collapsed": false,
    "pycharm": {
     "name": "#%%\n"
    }
   }
  }
 ],
 "metadata": {
  "kernelspec": {
   "display_name": "Python 3",
   "language": "python",
   "name": "python3"
  },
  "language_info": {
   "codemirror_mode": {
    "name": "ipython",
    "version": 2
   },
   "file_extension": ".py",
   "mimetype": "text/x-python",
   "name": "python",
   "nbconvert_exporter": "python",
   "pygments_lexer": "ipython2",
   "version": "2.7.6"
  }
 },
 "nbformat": 4,
 "nbformat_minor": 0
}